{
  "nbformat": 4,
  "nbformat_minor": 0,
  "metadata": {
    "colab": {
      "provenance": [],
      "authorship_tag": "ABX9TyNMSjU1KEd2q8RsBj2Qosd9",
      "include_colab_link": true
    },
    "kernelspec": {
      "name": "python3",
      "display_name": "Python 3"
    },
    "language_info": {
      "name": "python"
    }
  },
  "cells": [
    {
      "cell_type": "markdown",
      "metadata": {
        "id": "view-in-github",
        "colab_type": "text"
      },
      "source": [
        "<a href=\"https://colab.research.google.com/github/nitishgowda1581999-glitch/nitishgowdag/blob/main/Untitled45.ipynb\" target=\"_parent\"><img src=\"https://colab.research.google.com/assets/colab-badge.svg\" alt=\"Open In Colab\"/></a>"
      ]
    },
    {
      "cell_type": "code",
      "source": [],
      "metadata": {
        "id": "WZDV_XHsV3de"
      },
      "execution_count": null,
      "outputs": []
    },
    {
      "cell_type": "markdown",
      "metadata": {
        "id": "a876c6eb"
      },
      "source": [
        "# Task 1\n",
        "Analyze the provided restaurant dataset located at \"/content/Dataset (1).csv\" to determine the top three most common cuisines and calculate the percentage of restaurants that serve each of the top cuisines."
      ]
    },
    {
      "cell_type": "code",
      "metadata": {
        "colab": {
          "base_uri": "https://localhost:8080/",
          "height": 0
        },
        "id": "W2DJZccYEb9y",
        "outputId": "a7abffd2-079b-4998-f4a7-06a4bda7300e"
      },
      "source": [
        "import os\n",
        "print(os.listdir('/content/'))"
      ],
      "execution_count": 4,
      "outputs": [
        {
          "output_type": "stream",
          "name": "stdout",
          "text": [
            "['.config', 'Dataset  (1).csv', 'sample_data']\n"
          ]
        }
      ]
    },
    {
      "cell_type": "code",
      "metadata": {
        "colab": {
          "base_uri": "https://localhost:8080/",
          "height": 1314
        },
        "id": "a111239d",
        "outputId": "ca45e411-f15c-4e01-c1aa-aa6895fe3712"
      },
      "source": [
        "df = pd.read_csv(\"/content/Dataset  (1).csv\")\n",
        "display(df.head())\n",
        "display(df.info())"
      ],
      "execution_count": 5,
      "outputs": [
        {
          "output_type": "display_data",
          "data": {
            "text/plain": [
              "   Restaurant ID         Restaurant Name  Country Code              City  \\\n",
              "0        6317637        Le Petit Souffle           162       Makati City   \n",
              "1        6304287        Izakaya Kikufuji           162       Makati City   \n",
              "2        6300002  Heat - Edsa Shangri-La           162  Mandaluyong City   \n",
              "3        6318506                    Ooma           162  Mandaluyong City   \n",
              "4        6314302             Sambo Kojin           162  Mandaluyong City   \n",
              "\n",
              "                                             Address  \\\n",
              "0  Third Floor, Century City Mall, Kalayaan Avenu...   \n",
              "1  Little Tokyo, 2277 Chino Roces Avenue, Legaspi...   \n",
              "2  Edsa Shangri-La, 1 Garden Way, Ortigas, Mandal...   \n",
              "3  Third Floor, Mega Fashion Hall, SM Megamall, O...   \n",
              "4  Third Floor, Mega Atrium, SM Megamall, Ortigas...   \n",
              "\n",
              "                                     Locality  \\\n",
              "0   Century City Mall, Poblacion, Makati City   \n",
              "1  Little Tokyo, Legaspi Village, Makati City   \n",
              "2  Edsa Shangri-La, Ortigas, Mandaluyong City   \n",
              "3      SM Megamall, Ortigas, Mandaluyong City   \n",
              "4      SM Megamall, Ortigas, Mandaluyong City   \n",
              "\n",
              "                                    Locality Verbose   Longitude   Latitude  \\\n",
              "0  Century City Mall, Poblacion, Makati City, Mak...  121.027535  14.565443   \n",
              "1  Little Tokyo, Legaspi Village, Makati City, Ma...  121.014101  14.553708   \n",
              "2  Edsa Shangri-La, Ortigas, Mandaluyong City, Ma...  121.056831  14.581404   \n",
              "3  SM Megamall, Ortigas, Mandaluyong City, Mandal...  121.056475  14.585318   \n",
              "4  SM Megamall, Ortigas, Mandaluyong City, Mandal...  121.057508  14.584450   \n",
              "\n",
              "                           Cuisines  ...          Currency Has Table booking  \\\n",
              "0        French, Japanese, Desserts  ...  Botswana Pula(P)               Yes   \n",
              "1                          Japanese  ...  Botswana Pula(P)               Yes   \n",
              "2  Seafood, Asian, Filipino, Indian  ...  Botswana Pula(P)               Yes   \n",
              "3                   Japanese, Sushi  ...  Botswana Pula(P)                No   \n",
              "4                  Japanese, Korean  ...  Botswana Pula(P)               Yes   \n",
              "\n",
              "  Has Online delivery Is delivering now Switch to order menu Price range  \\\n",
              "0                  No                No                   No           3   \n",
              "1                  No                No                   No           3   \n",
              "2                  No                No                   No           4   \n",
              "3                  No                No                   No           4   \n",
              "4                  No                No                   No           4   \n",
              "\n",
              "   Aggregate rating  Rating color Rating text Votes  \n",
              "0               4.8    Dark Green   Excellent   314  \n",
              "1               4.5    Dark Green   Excellent   591  \n",
              "2               4.4         Green   Very Good   270  \n",
              "3               4.9    Dark Green   Excellent   365  \n",
              "4               4.8    Dark Green   Excellent   229  \n",
              "\n",
              "[5 rows x 21 columns]"
            ],
            "text/html": [
              "\n",
              "  <div id=\"df-668c56a3-bad7-409f-9264-816e7966d336\" class=\"colab-df-container\">\n",
              "    <div>\n",
              "<style scoped>\n",
              "    .dataframe tbody tr th:only-of-type {\n",
              "        vertical-align: middle;\n",
              "    }\n",
              "\n",
              "    .dataframe tbody tr th {\n",
              "        vertical-align: top;\n",
              "    }\n",
              "\n",
              "    .dataframe thead th {\n",
              "        text-align: right;\n",
              "    }\n",
              "</style>\n",
              "<table border=\"1\" class=\"dataframe\">\n",
              "  <thead>\n",
              "    <tr style=\"text-align: right;\">\n",
              "      <th></th>\n",
              "      <th>Restaurant ID</th>\n",
              "      <th>Restaurant Name</th>\n",
              "      <th>Country Code</th>\n",
              "      <th>City</th>\n",
              "      <th>Address</th>\n",
              "      <th>Locality</th>\n",
              "      <th>Locality Verbose</th>\n",
              "      <th>Longitude</th>\n",
              "      <th>Latitude</th>\n",
              "      <th>Cuisines</th>\n",
              "      <th>...</th>\n",
              "      <th>Currency</th>\n",
              "      <th>Has Table booking</th>\n",
              "      <th>Has Online delivery</th>\n",
              "      <th>Is delivering now</th>\n",
              "      <th>Switch to order menu</th>\n",
              "      <th>Price range</th>\n",
              "      <th>Aggregate rating</th>\n",
              "      <th>Rating color</th>\n",
              "      <th>Rating text</th>\n",
              "      <th>Votes</th>\n",
              "    </tr>\n",
              "  </thead>\n",
              "  <tbody>\n",
              "    <tr>\n",
              "      <th>0</th>\n",
              "      <td>6317637</td>\n",
              "      <td>Le Petit Souffle</td>\n",
              "      <td>162</td>\n",
              "      <td>Makati City</td>\n",
              "      <td>Third Floor, Century City Mall, Kalayaan Avenu...</td>\n",
              "      <td>Century City Mall, Poblacion, Makati City</td>\n",
              "      <td>Century City Mall, Poblacion, Makati City, Mak...</td>\n",
              "      <td>121.027535</td>\n",
              "      <td>14.565443</td>\n",
              "      <td>French, Japanese, Desserts</td>\n",
              "      <td>...</td>\n",
              "      <td>Botswana Pula(P)</td>\n",
              "      <td>Yes</td>\n",
              "      <td>No</td>\n",
              "      <td>No</td>\n",
              "      <td>No</td>\n",
              "      <td>3</td>\n",
              "      <td>4.8</td>\n",
              "      <td>Dark Green</td>\n",
              "      <td>Excellent</td>\n",
              "      <td>314</td>\n",
              "    </tr>\n",
              "    <tr>\n",
              "      <th>1</th>\n",
              "      <td>6304287</td>\n",
              "      <td>Izakaya Kikufuji</td>\n",
              "      <td>162</td>\n",
              "      <td>Makati City</td>\n",
              "      <td>Little Tokyo, 2277 Chino Roces Avenue, Legaspi...</td>\n",
              "      <td>Little Tokyo, Legaspi Village, Makati City</td>\n",
              "      <td>Little Tokyo, Legaspi Village, Makati City, Ma...</td>\n",
              "      <td>121.014101</td>\n",
              "      <td>14.553708</td>\n",
              "      <td>Japanese</td>\n",
              "      <td>...</td>\n",
              "      <td>Botswana Pula(P)</td>\n",
              "      <td>Yes</td>\n",
              "      <td>No</td>\n",
              "      <td>No</td>\n",
              "      <td>No</td>\n",
              "      <td>3</td>\n",
              "      <td>4.5</td>\n",
              "      <td>Dark Green</td>\n",
              "      <td>Excellent</td>\n",
              "      <td>591</td>\n",
              "    </tr>\n",
              "    <tr>\n",
              "      <th>2</th>\n",
              "      <td>6300002</td>\n",
              "      <td>Heat - Edsa Shangri-La</td>\n",
              "      <td>162</td>\n",
              "      <td>Mandaluyong City</td>\n",
              "      <td>Edsa Shangri-La, 1 Garden Way, Ortigas, Mandal...</td>\n",
              "      <td>Edsa Shangri-La, Ortigas, Mandaluyong City</td>\n",
              "      <td>Edsa Shangri-La, Ortigas, Mandaluyong City, Ma...</td>\n",
              "      <td>121.056831</td>\n",
              "      <td>14.581404</td>\n",
              "      <td>Seafood, Asian, Filipino, Indian</td>\n",
              "      <td>...</td>\n",
              "      <td>Botswana Pula(P)</td>\n",
              "      <td>Yes</td>\n",
              "      <td>No</td>\n",
              "      <td>No</td>\n",
              "      <td>No</td>\n",
              "      <td>4</td>\n",
              "      <td>4.4</td>\n",
              "      <td>Green</td>\n",
              "      <td>Very Good</td>\n",
              "      <td>270</td>\n",
              "    </tr>\n",
              "    <tr>\n",
              "      <th>3</th>\n",
              "      <td>6318506</td>\n",
              "      <td>Ooma</td>\n",
              "      <td>162</td>\n",
              "      <td>Mandaluyong City</td>\n",
              "      <td>Third Floor, Mega Fashion Hall, SM Megamall, O...</td>\n",
              "      <td>SM Megamall, Ortigas, Mandaluyong City</td>\n",
              "      <td>SM Megamall, Ortigas, Mandaluyong City, Mandal...</td>\n",
              "      <td>121.056475</td>\n",
              "      <td>14.585318</td>\n",
              "      <td>Japanese, Sushi</td>\n",
              "      <td>...</td>\n",
              "      <td>Botswana Pula(P)</td>\n",
              "      <td>No</td>\n",
              "      <td>No</td>\n",
              "      <td>No</td>\n",
              "      <td>No</td>\n",
              "      <td>4</td>\n",
              "      <td>4.9</td>\n",
              "      <td>Dark Green</td>\n",
              "      <td>Excellent</td>\n",
              "      <td>365</td>\n",
              "    </tr>\n",
              "    <tr>\n",
              "      <th>4</th>\n",
              "      <td>6314302</td>\n",
              "      <td>Sambo Kojin</td>\n",
              "      <td>162</td>\n",
              "      <td>Mandaluyong City</td>\n",
              "      <td>Third Floor, Mega Atrium, SM Megamall, Ortigas...</td>\n",
              "      <td>SM Megamall, Ortigas, Mandaluyong City</td>\n",
              "      <td>SM Megamall, Ortigas, Mandaluyong City, Mandal...</td>\n",
              "      <td>121.057508</td>\n",
              "      <td>14.584450</td>\n",
              "      <td>Japanese, Korean</td>\n",
              "      <td>...</td>\n",
              "      <td>Botswana Pula(P)</td>\n",
              "      <td>Yes</td>\n",
              "      <td>No</td>\n",
              "      <td>No</td>\n",
              "      <td>No</td>\n",
              "      <td>4</td>\n",
              "      <td>4.8</td>\n",
              "      <td>Dark Green</td>\n",
              "      <td>Excellent</td>\n",
              "      <td>229</td>\n",
              "    </tr>\n",
              "  </tbody>\n",
              "</table>\n",
              "<p>5 rows × 21 columns</p>\n",
              "</div>\n",
              "    <div class=\"colab-df-buttons\">\n",
              "\n",
              "  <div class=\"colab-df-container\">\n",
              "    <button class=\"colab-df-convert\" onclick=\"convertToInteractive('df-668c56a3-bad7-409f-9264-816e7966d336')\"\n",
              "            title=\"Convert this dataframe to an interactive table.\"\n",
              "            style=\"display:none;\">\n",
              "\n",
              "  <svg xmlns=\"http://www.w3.org/2000/svg\" height=\"24px\" viewBox=\"0 -960 960 960\">\n",
              "    <path d=\"M120-120v-720h720v720H120Zm60-500h600v-160H180v160Zm220 220h160v-160H400v160Zm0 220h160v-160H400v160ZM180-400h160v-160H180v160Zm440 0h160v-160H620v160ZM180-180h160v-160H180v160Zm440 0h160v-160H620v160Z\"/>\n",
              "  </svg>\n",
              "    </button>\n",
              "\n",
              "  <style>\n",
              "    .colab-df-container {\n",
              "      display:flex;\n",
              "      gap: 12px;\n",
              "    }\n",
              "\n",
              "    .colab-df-convert {\n",
              "      background-color: #E8F0FE;\n",
              "      border: none;\n",
              "      border-radius: 50%;\n",
              "      cursor: pointer;\n",
              "      display: none;\n",
              "      fill: #1967D2;\n",
              "      height: 32px;\n",
              "      padding: 0 0 0 0;\n",
              "      width: 32px;\n",
              "    }\n",
              "\n",
              "    .colab-df-convert:hover {\n",
              "      background-color: #E2EBFA;\n",
              "      box-shadow: 0px 1px 2px rgba(60, 64, 67, 0.3), 0px 1px 3px 1px rgba(60, 64, 67, 0.15);\n",
              "      fill: #174EA6;\n",
              "    }\n",
              "\n",
              "    .colab-df-buttons div {\n",
              "      margin-bottom: 4px;\n",
              "    }\n",
              "\n",
              "    [theme=dark] .colab-df-convert {\n",
              "      background-color: #3B4455;\n",
              "      fill: #D2E3FC;\n",
              "    }\n",
              "\n",
              "    [theme=dark] .colab-df-convert:hover {\n",
              "      background-color: #434B5C;\n",
              "      box-shadow: 0px 1px 3px 1px rgba(0, 0, 0, 0.15);\n",
              "      filter: drop-shadow(0px 1px 2px rgba(0, 0, 0, 0.3));\n",
              "      fill: #FFFFFF;\n",
              "    }\n",
              "  </style>\n",
              "\n",
              "    <script>\n",
              "      const buttonEl =\n",
              "        document.querySelector('#df-668c56a3-bad7-409f-9264-816e7966d336 button.colab-df-convert');\n",
              "      buttonEl.style.display =\n",
              "        google.colab.kernel.accessAllowed ? 'block' : 'none';\n",
              "\n",
              "      async function convertToInteractive(key) {\n",
              "        const element = document.querySelector('#df-668c56a3-bad7-409f-9264-816e7966d336');\n",
              "        const dataTable =\n",
              "          await google.colab.kernel.invokeFunction('convertToInteractive',\n",
              "                                                    [key], {});\n",
              "        if (!dataTable) return;\n",
              "\n",
              "        const docLinkHtml = 'Like what you see? Visit the ' +\n",
              "          '<a target=\"_blank\" href=https://colab.research.google.com/notebooks/data_table.ipynb>data table notebook</a>'\n",
              "          + ' to learn more about interactive tables.';\n",
              "        element.innerHTML = '';\n",
              "        dataTable['output_type'] = 'display_data';\n",
              "        await google.colab.output.renderOutput(dataTable, element);\n",
              "        const docLink = document.createElement('div');\n",
              "        docLink.innerHTML = docLinkHtml;\n",
              "        element.appendChild(docLink);\n",
              "      }\n",
              "    </script>\n",
              "  </div>\n",
              "\n",
              "\n",
              "    <div id=\"df-d97b7248-8a67-4431-9fd2-e78f46ef3bd3\">\n",
              "      <button class=\"colab-df-quickchart\" onclick=\"quickchart('df-d97b7248-8a67-4431-9fd2-e78f46ef3bd3')\"\n",
              "                title=\"Suggest charts\"\n",
              "                style=\"display:none;\">\n",
              "\n",
              "<svg xmlns=\"http://www.w3.org/2000/svg\" height=\"24px\"viewBox=\"0 0 24 24\"\n",
              "     width=\"24px\">\n",
              "    <g>\n",
              "        <path d=\"M19 3H5c-1.1 0-2 .9-2 2v14c0 1.1.9 2 2 2h14c1.1 0 2-.9 2-2V5c0-1.1-.9-2-2-2zM9 17H7v-7h2v7zm4 0h-2V7h2v10zm4 0h-2v-4h2v4z\"/>\n",
              "    </g>\n",
              "</svg>\n",
              "      </button>\n",
              "\n",
              "<style>\n",
              "  .colab-df-quickchart {\n",
              "      --bg-color: #E8F0FE;\n",
              "      --fill-color: #1967D2;\n",
              "      --hover-bg-color: #E2EBFA;\n",
              "      --hover-fill-color: #174EA6;\n",
              "      --disabled-fill-color: #AAA;\n",
              "      --disabled-bg-color: #DDD;\n",
              "  }\n",
              "\n",
              "  [theme=dark] .colab-df-quickchart {\n",
              "      --bg-color: #3B4455;\n",
              "      --fill-color: #D2E3FC;\n",
              "      --hover-bg-color: #434B5C;\n",
              "      --hover-fill-color: #FFFFFF;\n",
              "      --disabled-bg-color: #3B4455;\n",
              "      --disabled-fill-color: #666;\n",
              "  }\n",
              "\n",
              "  .colab-df-quickchart {\n",
              "    background-color: var(--bg-color);\n",
              "    border: none;\n",
              "    border-radius: 50%;\n",
              "    cursor: pointer;\n",
              "    display: none;\n",
              "    fill: var(--fill-color);\n",
              "    height: 32px;\n",
              "    padding: 0;\n",
              "    width: 32px;\n",
              "  }\n",
              "\n",
              "  .colab-df-quickchart:hover {\n",
              "    background-color: var(--hover-bg-color);\n",
              "    box-shadow: 0 1px 2px rgba(60, 64, 67, 0.3), 0 1px 3px 1px rgba(60, 64, 67, 0.15);\n",
              "    fill: var(--button-hover-fill-color);\n",
              "  }\n",
              "\n",
              "  .colab-df-quickchart-complete:disabled,\n",
              "  .colab-df-quickchart-complete:disabled:hover {\n",
              "    background-color: var(--disabled-bg-color);\n",
              "    fill: var(--disabled-fill-color);\n",
              "    box-shadow: none;\n",
              "  }\n",
              "\n",
              "  .colab-df-spinner {\n",
              "    border: 2px solid var(--fill-color);\n",
              "    border-color: transparent;\n",
              "    border-bottom-color: var(--fill-color);\n",
              "    animation:\n",
              "      spin 1s steps(1) infinite;\n",
              "  }\n",
              "\n",
              "  @keyframes spin {\n",
              "    0% {\n",
              "      border-color: transparent;\n",
              "      border-bottom-color: var(--fill-color);\n",
              "      border-left-color: var(--fill-color);\n",
              "    }\n",
              "    20% {\n",
              "      border-color: transparent;\n",
              "      border-left-color: var(--fill-color);\n",
              "      border-top-color: var(--fill-color);\n",
              "    }\n",
              "    30% {\n",
              "      border-color: transparent;\n",
              "      border-left-color: var(--fill-color);\n",
              "      border-top-color: var(--fill-color);\n",
              "      border-right-color: var(--fill-color);\n",
              "    }\n",
              "    40% {\n",
              "      border-color: transparent;\n",
              "      border-right-color: var(--fill-color);\n",
              "      border-top-color: var(--fill-color);\n",
              "    }\n",
              "    60% {\n",
              "      border-color: transparent;\n",
              "      border-right-color: var(--fill-color);\n",
              "    }\n",
              "    80% {\n",
              "      border-color: transparent;\n",
              "      border-right-color: var(--fill-color);\n",
              "      border-bottom-color: var(--fill-color);\n",
              "    }\n",
              "    90% {\n",
              "      border-color: transparent;\n",
              "      border-bottom-color: var(--fill-color);\n",
              "    }\n",
              "  }\n",
              "</style>\n",
              "\n",
              "      <script>\n",
              "        async function quickchart(key) {\n",
              "          const quickchartButtonEl =\n",
              "            document.querySelector('#' + key + ' button');\n",
              "          quickchartButtonEl.disabled = true;  // To prevent multiple clicks.\n",
              "          quickchartButtonEl.classList.add('colab-df-spinner');\n",
              "          try {\n",
              "            const charts = await google.colab.kernel.invokeFunction(\n",
              "                'suggestCharts', [key], {});\n",
              "          } catch (error) {\n",
              "            console.error('Error during call to suggestCharts:', error);\n",
              "          }\n",
              "          quickchartButtonEl.classList.remove('colab-df-spinner');\n",
              "          quickchartButtonEl.classList.add('colab-df-quickchart-complete');\n",
              "        }\n",
              "        (() => {\n",
              "          let quickchartButtonEl =\n",
              "            document.querySelector('#df-d97b7248-8a67-4431-9fd2-e78f46ef3bd3 button');\n",
              "          quickchartButtonEl.style.display =\n",
              "            google.colab.kernel.accessAllowed ? 'block' : 'none';\n",
              "        })();\n",
              "      </script>\n",
              "    </div>\n",
              "\n",
              "    </div>\n",
              "  </div>\n"
            ],
            "application/vnd.google.colaboratory.intrinsic+json": {
              "type": "dataframe"
            }
          },
          "metadata": {}
        },
        {
          "output_type": "stream",
          "name": "stdout",
          "text": [
            "<class 'pandas.core.frame.DataFrame'>\n",
            "RangeIndex: 9551 entries, 0 to 9550\n",
            "Data columns (total 21 columns):\n",
            " #   Column                Non-Null Count  Dtype  \n",
            "---  ------                --------------  -----  \n",
            " 0   Restaurant ID         9551 non-null   int64  \n",
            " 1   Restaurant Name       9551 non-null   object \n",
            " 2   Country Code          9551 non-null   int64  \n",
            " 3   City                  9551 non-null   object \n",
            " 4   Address               9551 non-null   object \n",
            " 5   Locality              9551 non-null   object \n",
            " 6   Locality Verbose      9551 non-null   object \n",
            " 7   Longitude             9551 non-null   float64\n",
            " 8   Latitude              9551 non-null   float64\n",
            " 9   Cuisines              9542 non-null   object \n",
            " 10  Average Cost for two  9551 non-null   int64  \n",
            " 11  Currency              9551 non-null   object \n",
            " 12  Has Table booking     9551 non-null   object \n",
            " 13  Has Online delivery   9551 non-null   object \n",
            " 14  Is delivering now     9551 non-null   object \n",
            " 15  Switch to order menu  9551 non-null   object \n",
            " 16  Price range           9551 non-null   int64  \n",
            " 17  Aggregate rating      9551 non-null   float64\n",
            " 18  Rating color          9551 non-null   object \n",
            " 19  Rating text           9551 non-null   object \n",
            " 20  Votes                 9551 non-null   int64  \n",
            "dtypes: float64(3), int64(5), object(13)\n",
            "memory usage: 1.5+ MB\n"
          ]
        },
        {
          "output_type": "display_data",
          "data": {
            "text/plain": [
              "None"
            ]
          },
          "metadata": {}
        }
      ]
    },
    {
      "cell_type": "markdown",
      "metadata": {
        "id": "c4e3b3fe"
      },
      "source": [
        "## Identify and clean cuisine data\n",
        "\n",
        "### Subtask:\n",
        "Identify the column containing cuisine information and handle any missing or inconsistent data if necessary.\n"
      ]
    },
    {
      "cell_type": "markdown",
      "metadata": {
        "id": "f5516eba"
      },
      "source": [
        "**Reasoning**:\n",
        "Identify the cuisine column, check for missing values, and examine unique values for inconsistencies.\n",
        "\n"
      ]
    },
    {
      "cell_type": "code",
      "metadata": {
        "colab": {
          "base_uri": "https://localhost:8080/",
          "height": 0
        },
        "id": "b8d22ed2",
        "outputId": "6ae1a27f-b9ad-4cf9-8d6a-7e0952c885f0"
      },
      "source": [
        "cuisine_column = 'Cuisines'\n",
        "print(f\"Column identified for cuisines: {cuisine_column}\")\n",
        "\n",
        "missing_values = df[cuisine_column].isnull().sum()\n",
        "print(f\"Number of missing values in '{cuisine_column}': {missing_values}\")\n",
        "\n",
        "if missing_values > 0:\n",
        "    print(f\"Handling missing values: Dropping rows with missing values in '{cuisine_column}'.\")\n",
        "    df.dropna(subset=[cuisine_column], inplace=True)\n",
        "    print(f\"Number of missing values after handling: {df[cuisine_column].isnull().sum()}\")\n",
        "\n",
        "unique_cuisines = df[cuisine_column].unique()\n",
        "print(f\"Number of unique cuisines: {len(unique_cuisines)}\")\n",
        "print(f\"First 20 unique cuisines: {unique_cuisines[:40]}\")"
      ],
      "execution_count": 10,
      "outputs": [
        {
          "output_type": "stream",
          "name": "stdout",
          "text": [
            "Column identified for cuisines: Cuisines\n",
            "Number of missing values in 'Cuisines': 0\n",
            "Number of unique cuisines: 1825\n",
            "First 20 unique cuisines: ['French, Japanese, Desserts' 'Japanese'\n",
            " 'Seafood, Asian, Filipino, Indian' 'Japanese, Sushi' 'Japanese, Korean'\n",
            " 'Chinese' 'Asian, European' 'Seafood, Filipino, Asian, European'\n",
            " 'European, Asian, Indian' 'Filipino' 'Filipino, Mexican'\n",
            " 'American, Ice Cream, Desserts' 'Korean'\n",
            " 'Cafe, American, Italian, Filipino' 'Italian, Pizza'\n",
            " 'Cafe, Korean, Desserts' 'Cafe, Bakery, American, Italian'\n",
            " 'Seafood, American, Mediterranean, Japanese'\n",
            " 'American, Asian, Italian, Seafood' 'Fast Food, French' 'Cafe' 'Bakery'\n",
            " 'Brazilian' 'Pizza' 'Arabian' 'Brazilian, Cafe' 'Italian'\n",
            " 'Bar Food, Brazilian' 'Mexican, Grill' 'International'\n",
            " 'Peruvian, Latin American' 'American, Grill' 'Seafood' 'American, Burger'\n",
            " 'Seafood, Bar Food, Brazilian' 'Desserts, Cafe' 'Juices, Healthy Food'\n",
            " 'Beverages, Bar Food, Fast Food' 'Lebanese' 'Burger']\n"
          ]
        }
      ]
    },
    {
      "cell_type": "markdown",
      "metadata": {
        "id": "06fee042"
      },
      "source": [
        "## Analyze cuisine frequency\n",
        "\n",
        "### Subtask:\n",
        "Count the occurrences of each cuisine to find the most common ones.\n"
      ]
    },
    {
      "cell_type": "markdown",
      "metadata": {
        "id": "5b8cb415"
      },
      "source": [
        "**Reasoning**:\n",
        "Split the 'Cuisines' column into individual cuisines, explode the list into separate rows, and count the occurrences of each cuisine to find the most common ones.\n",
        "\n"
      ]
    },
    {
      "cell_type": "code",
      "metadata": {
        "colab": {
          "base_uri": "https://localhost:8080/",
          "height": 429
        },
        "id": "b8c51395",
        "outputId": "4563b23c-2804-4275-ebcf-a7d839e27300"
      },
      "source": [
        "cuisine_counts = df['Cuisines'].str.split(', ').explode().value_counts()\n",
        "display(cuisine_counts.head(10))"
      ],
      "execution_count": 21,
      "outputs": [
        {
          "output_type": "display_data",
          "data": {
            "text/plain": [
              "Cuisines\n",
              "North Indian    3960\n",
              "Chinese         2735\n",
              "Fast Food       1986\n",
              "Mughlai          995\n",
              "Italian          764\n",
              "Bakery           745\n",
              "Continental      736\n",
              "Cafe             703\n",
              "Desserts         653\n",
              "South Indian     636\n",
              "Name: count, dtype: int64"
            ],
            "text/html": [
              "<div>\n",
              "<style scoped>\n",
              "    .dataframe tbody tr th:only-of-type {\n",
              "        vertical-align: middle;\n",
              "    }\n",
              "\n",
              "    .dataframe tbody tr th {\n",
              "        vertical-align: top;\n",
              "    }\n",
              "\n",
              "    .dataframe thead th {\n",
              "        text-align: right;\n",
              "    }\n",
              "</style>\n",
              "<table border=\"1\" class=\"dataframe\">\n",
              "  <thead>\n",
              "    <tr style=\"text-align: right;\">\n",
              "      <th></th>\n",
              "      <th>count</th>\n",
              "    </tr>\n",
              "    <tr>\n",
              "      <th>Cuisines</th>\n",
              "      <th></th>\n",
              "    </tr>\n",
              "  </thead>\n",
              "  <tbody>\n",
              "    <tr>\n",
              "      <th>North Indian</th>\n",
              "      <td>3960</td>\n",
              "    </tr>\n",
              "    <tr>\n",
              "      <th>Chinese</th>\n",
              "      <td>2735</td>\n",
              "    </tr>\n",
              "    <tr>\n",
              "      <th>Fast Food</th>\n",
              "      <td>1986</td>\n",
              "    </tr>\n",
              "    <tr>\n",
              "      <th>Mughlai</th>\n",
              "      <td>995</td>\n",
              "    </tr>\n",
              "    <tr>\n",
              "      <th>Italian</th>\n",
              "      <td>764</td>\n",
              "    </tr>\n",
              "    <tr>\n",
              "      <th>Bakery</th>\n",
              "      <td>745</td>\n",
              "    </tr>\n",
              "    <tr>\n",
              "      <th>Continental</th>\n",
              "      <td>736</td>\n",
              "    </tr>\n",
              "    <tr>\n",
              "      <th>Cafe</th>\n",
              "      <td>703</td>\n",
              "    </tr>\n",
              "    <tr>\n",
              "      <th>Desserts</th>\n",
              "      <td>653</td>\n",
              "    </tr>\n",
              "    <tr>\n",
              "      <th>South Indian</th>\n",
              "      <td>636</td>\n",
              "    </tr>\n",
              "  </tbody>\n",
              "</table>\n",
              "</div><br><label><b>dtype:</b> int64</label>"
            ]
          },
          "metadata": {}
        }
      ]
    },
    {
      "cell_type": "markdown",
      "metadata": {
        "id": "1cc74858"
      },
      "source": [
        "## Calculate percentages\n",
        "\n",
        "### Subtask:\n",
        "Calculate the percentage of restaurants for each of the top cuisines relative to the total number of restaurants.\n"
      ]
    },
    {
      "cell_type": "markdown",
      "metadata": {
        "id": "f433fa1e"
      },
      "source": [
        "**Reasoning**:\n",
        "Calculate the percentage of each cuisine by dividing the count by the total number of restaurants and store it in a new variable.\n",
        "\n"
      ]
    },
    {
      "cell_type": "code",
      "metadata": {
        "colab": {
          "base_uri": "https://localhost:8080/",
          "height": 303
        },
        "id": "9ed0d999",
        "outputId": "199bf58e-36f0-4b32-f39b-c2a0e469457d"
      },
      "source": [
        "total_restaurants = len(df)\n",
        "cuisine_percentages = (cuisine_counts / total_restaurants) * 1000\n",
        "display(cuisine_percentages.head(6))"
      ],
      "execution_count": 23,
      "outputs": [
        {
          "output_type": "display_data",
          "data": {
            "text/plain": [
              "Cuisines\n",
              "North Indian    415.007336\n",
              "Chinese         286.627541\n",
              "Fast Food       208.132467\n",
              "Mughlai         104.275833\n",
              "Italian          80.067072\n",
              "Bakery           78.075875\n",
              "Name: count, dtype: float64"
            ],
            "text/html": [
              "<div>\n",
              "<style scoped>\n",
              "    .dataframe tbody tr th:only-of-type {\n",
              "        vertical-align: middle;\n",
              "    }\n",
              "\n",
              "    .dataframe tbody tr th {\n",
              "        vertical-align: top;\n",
              "    }\n",
              "\n",
              "    .dataframe thead th {\n",
              "        text-align: right;\n",
              "    }\n",
              "</style>\n",
              "<table border=\"1\" class=\"dataframe\">\n",
              "  <thead>\n",
              "    <tr style=\"text-align: right;\">\n",
              "      <th></th>\n",
              "      <th>count</th>\n",
              "    </tr>\n",
              "    <tr>\n",
              "      <th>Cuisines</th>\n",
              "      <th></th>\n",
              "    </tr>\n",
              "  </thead>\n",
              "  <tbody>\n",
              "    <tr>\n",
              "      <th>North Indian</th>\n",
              "      <td>415.007336</td>\n",
              "    </tr>\n",
              "    <tr>\n",
              "      <th>Chinese</th>\n",
              "      <td>286.627541</td>\n",
              "    </tr>\n",
              "    <tr>\n",
              "      <th>Fast Food</th>\n",
              "      <td>208.132467</td>\n",
              "    </tr>\n",
              "    <tr>\n",
              "      <th>Mughlai</th>\n",
              "      <td>104.275833</td>\n",
              "    </tr>\n",
              "    <tr>\n",
              "      <th>Italian</th>\n",
              "      <td>80.067072</td>\n",
              "    </tr>\n",
              "    <tr>\n",
              "      <th>Bakery</th>\n",
              "      <td>78.075875</td>\n",
              "    </tr>\n",
              "  </tbody>\n",
              "</table>\n",
              "</div><br><label><b>dtype:</b> float64</label>"
            ]
          },
          "metadata": {}
        }
      ]
    },
    {
      "cell_type": "markdown",
      "metadata": {
        "id": "64e2f4f6"
      },
      "source": [
        "## Present the results\n",
        "\n",
        "### Subtask:\n",
        "Display the top three cuisines and their calculated percentages.\n"
      ]
    },
    {
      "cell_type": "markdown",
      "source": [],
      "metadata": {
        "id": "Bmkf-3-VHI99"
      }
    },
    {
      "cell_type": "markdown",
      "metadata": {
        "id": "7f65a260"
      },
      "source": [
        "**Reasoning**:\n",
        "Display the top 6 cuisines and their calculated percentages using the head method on the cuisine_percentages Series and print the results.\n",
        "\n"
      ]
    },
    {
      "cell_type": "code",
      "metadata": {
        "colab": {
          "base_uri": "https://localhost:8080/",
          "height": 0
        },
        "id": "cb425dcd",
        "outputId": "698fbfb6-a102-4150-f49b-49dc11f8db00"
      },
      "source": [
        "top_6_cuisines = cuisine_percentages.head(6)\n",
        "print(\"Top 6 Cuisines and their Percentages:\")\n",
        "for cuisine, percentage in top_6_cuisines.items():\n",
        "    print(f\"{cuisine}: {percentage:.2f}%\")"
      ],
      "execution_count": 25,
      "outputs": [
        {
          "output_type": "stream",
          "name": "stdout",
          "text": [
            "Top 6 Cuisines and their Percentages:\n",
            "North Indian: 415.01%\n",
            "Chinese: 286.63%\n",
            "Fast Food: 208.13%\n",
            "Mughlai: 104.28%\n",
            "Italian: 80.07%\n",
            "Bakery: 78.08%\n"
          ]
        }
      ]
    },
    {
      "cell_type": "code",
      "source": [
        "import matplotlib.pyplot as plt\n",
        "import seaborn as sns\n",
        "\n",
        "plt.figure(figsize=(12, 6))\n",
        "sns.barplot(x=top_6_cuisines.index, y=top_6_cuisines.values)\n",
        "plt.title('Top 6 Cuisines and their Percentages')\n",
        "plt.xlabel('Cuisine')\n",
        "plt.ylabel('Percentage (%)')\n",
        "plt.xticks(rotation=45, ha='right')\n",
        "plt.tight_layout()\n",
        "plt.show()"
      ],
      "metadata": {
        "colab": {
          "base_uri": "https://localhost:8080/",
          "height": 580
        },
        "id": "fMKqODAmMCB8",
        "outputId": "776fffe7-428a-4dc8-9da7-5c6f8e087b98"
      },
      "execution_count": 28,
      "outputs": [
        {
          "output_type": "display_data",
          "data": {
            "text/plain": [
              "<Figure size 1200x600 with 1 Axes>"
            ],
            "image/png": "[encoded data removed]"
          },
          "metadata": {}
        }
      ]
    },
    {
      "cell_type": "markdown",
      "metadata": {
        "id": "6c0e70e0"
      },
      "source": [
        "## Data Analysis Key Findings\n",
        "\n",
        "Based on the graph of the top 6 cuisines:\n",
        "\n",
        "- The most common cuisine is North Indian, followed by Chinese and Fast Food.\n",
        "- North Indian cuisine is served by over 40% of the restaurants in the dataset.\n",
        "- Chinese and Fast Food are the next most prevalent, each served by over 20% of the restaurants.\n",
        "- Mughlai, Italian, and Bakery cuisines are also among the top 6, with percentages ranging from approximately 7.8% to 10.4%."
      ]
    },
    {
      "cell_type": "code",
      "source": [],
      "metadata": {
        "id": "S_b9JR39Nza1"
      },
      "execution_count": null,
      "outputs": []
    },
    {
      "cell_type": "markdown",
      "metadata": {
        "id": "c6c9862b"
      },
      "source": [
        "# Task 2\n",
        "Analyze the dataset at \"/content/Dataset (1).csv\" to identify the city with the highest number of restaurants and the city with the highest average restaurant rating."
      ]
    },
    {
      "cell_type": "markdown",
      "metadata": {
        "id": "8d0647cc"
      },
      "source": [
        "## Identify the city with the highest number of restaurants\n",
        "\n",
        "### Subtask:\n",
        "Group the data by city and count the number of restaurants in each city. Then, find the city with the maximum count.\n"
      ]
    },
    {
      "cell_type": "markdown",
      "metadata": {
        "id": "8a173734"
      },
      "source": [
        "**Reasoning**:\n",
        "Group the data by city, count the number of restaurants in each city, sort the counts, and store the result.\n",
        "\n"
      ]
    },
    {
      "cell_type": "code",
      "metadata": {
        "colab": {
          "base_uri": "https://localhost:8080/",
          "height": 303
        },
        "id": "0d5f1d28",
        "outputId": "8aecd7b5-63fa-4282-a656-ce58c679bb1e"
      },
      "source": [
        "restaurant_counts_by_city = df.groupby('City').size().sort_values(ascending=False)\n",
        "display(restaurant_counts_by_city.head(6))"
      ],
      "execution_count": 34,
      "outputs": [
        {
          "output_type": "display_data",
          "data": {
            "text/plain": [
              "City\n",
              "New Delhi       5473\n",
              "Gurgaon         1118\n",
              "Noida           1080\n",
              "Faridabad        251\n",
              "Ghaziabad         25\n",
              "Bhubaneshwar      21\n",
              "dtype: int64"
            ],
            "text/html": [
              "<div>\n",
              "<style scoped>\n",
              "    .dataframe tbody tr th:only-of-type {\n",
              "        vertical-align: middle;\n",
              "    }\n",
              "\n",
              "    .dataframe tbody tr th {\n",
              "        vertical-align: top;\n",
              "    }\n",
              "\n",
              "    .dataframe thead th {\n",
              "        text-align: right;\n",
              "    }\n",
              "</style>\n",
              "<table border=\"1\" class=\"dataframe\">\n",
              "  <thead>\n",
              "    <tr style=\"text-align: right;\">\n",
              "      <th></th>\n",
              "      <th>0</th>\n",
              "    </tr>\n",
              "    <tr>\n",
              "      <th>City</th>\n",
              "      <th></th>\n",
              "    </tr>\n",
              "  </thead>\n",
              "  <tbody>\n",
              "    <tr>\n",
              "      <th>New Delhi</th>\n",
              "      <td>5473</td>\n",
              "    </tr>\n",
              "    <tr>\n",
              "      <th>Gurgaon</th>\n",
              "      <td>1118</td>\n",
              "    </tr>\n",
              "    <tr>\n",
              "      <th>Noida</th>\n",
              "      <td>1080</td>\n",
              "    </tr>\n",
              "    <tr>\n",
              "      <th>Faridabad</th>\n",
              "      <td>251</td>\n",
              "    </tr>\n",
              "    <tr>\n",
              "      <th>Ghaziabad</th>\n",
              "      <td>25</td>\n",
              "    </tr>\n",
              "    <tr>\n",
              "      <th>Bhubaneshwar</th>\n",
              "      <td>21</td>\n",
              "    </tr>\n",
              "  </tbody>\n",
              "</table>\n",
              "</div><br><label><b>dtype:</b> int64</label>"
            ]
          },
          "metadata": {}
        }
      ]
    },
    {
      "cell_type": "markdown",
      "metadata": {
        "id": "202ca9f6"
      },
      "source": [
        "## Calculate the average rating for restaurants in each city\n",
        "\n",
        "### Subtask:\n",
        "Calculate the average rating for restaurants in each city.\n"
      ]
    },
    {
      "cell_type": "markdown",
      "metadata": {
        "id": "410b0df8"
      },
      "source": [
        "**Reasoning**:\n",
        "Calculate the average rating for restaurants in each city by grouping by 'City' and taking the mean of 'Aggregate rating'.\n",
        "\n"
      ]
    },
    {
      "cell_type": "code",
      "metadata": {
        "colab": {
          "base_uri": "https://localhost:8080/",
          "height": 303
        },
        "id": "ddeb7fd5",
        "outputId": "d892a877-657b-4ca6-9583-433d7ebe00e6"
      },
      "source": [
        "average_rating_by_city = df.groupby('City')['Aggregate rating'].mean()\n",
        "display(average_rating_by_city.head(6))"
      ],
      "execution_count": 35,
      "outputs": [
        {
          "output_type": "display_data",
          "data": {
            "text/plain": [
              "City\n",
              "Abu Dhabi    4.300000\n",
              "Agra         3.965000\n",
              "Ahmedabad    4.161905\n",
              "Albany       3.552941\n",
              "Allahabad    3.395000\n",
              "Amritsar     3.685714\n",
              "Name: Aggregate rating, dtype: float64"
            ],
            "text/html": [
              "<div>\n",
              "<style scoped>\n",
              "    .dataframe tbody tr th:only-of-type {\n",
              "        vertical-align: middle;\n",
              "    }\n",
              "\n",
              "    .dataframe tbody tr th {\n",
              "        vertical-align: top;\n",
              "    }\n",
              "\n",
              "    .dataframe thead th {\n",
              "        text-align: right;\n",
              "    }\n",
              "</style>\n",
              "<table border=\"1\" class=\"dataframe\">\n",
              "  <thead>\n",
              "    <tr style=\"text-align: right;\">\n",
              "      <th></th>\n",
              "      <th>Aggregate rating</th>\n",
              "    </tr>\n",
              "    <tr>\n",
              "      <th>City</th>\n",
              "      <th></th>\n",
              "    </tr>\n",
              "  </thead>\n",
              "  <tbody>\n",
              "    <tr>\n",
              "      <th>Abu Dhabi</th>\n",
              "      <td>4.300000</td>\n",
              "    </tr>\n",
              "    <tr>\n",
              "      <th>Agra</th>\n",
              "      <td>3.965000</td>\n",
              "    </tr>\n",
              "    <tr>\n",
              "      <th>Ahmedabad</th>\n",
              "      <td>4.161905</td>\n",
              "    </tr>\n",
              "    <tr>\n",
              "      <th>Albany</th>\n",
              "      <td>3.552941</td>\n",
              "    </tr>\n",
              "    <tr>\n",
              "      <th>Allahabad</th>\n",
              "      <td>3.395000</td>\n",
              "    </tr>\n",
              "    <tr>\n",
              "      <th>Amritsar</th>\n",
              "      <td>3.685714</td>\n",
              "    </tr>\n",
              "  </tbody>\n",
              "</table>\n",
              "</div><br><label><b>dtype:</b> float64</label>"
            ]
          },
          "metadata": {}
        }
      ]
    },
    {
      "cell_type": "markdown",
      "metadata": {
        "id": "a891e387"
      },
      "source": [
        "## Determine the city with the highest average rating\n",
        "\n",
        "### Subtask:\n",
        "Find the city with the maximum average rating from the `average_rating_by_city` variable.\n"
      ]
    },
    {
      "cell_type": "markdown",
      "metadata": {
        "id": "6b99f18e"
      },
      "source": [
        "**Reasoning**:\n",
        "Find the city with the maximum average rating using the `idxmax()` method and store it in a variable.\n",
        "\n"
      ]
    },
    {
      "cell_type": "code",
      "metadata": {
        "colab": {
          "base_uri": "https://localhost:8080/",
          "height": 0
        },
        "id": "953a01ae",
        "outputId": "072ea57d-e75d-4d12-8ca2-387b47ba7b3b"
      },
      "source": [
        "city_highest_average_rating = average_rating_by_city.idxmax()\n",
        "print(f\"The city with the highest average restaurant rating is: {city_highest_average_rating}\")"
      ],
      "execution_count": 36,
      "outputs": [
        {
          "output_type": "stream",
          "name": "stdout",
          "text": [
            "The city with the highest average restaurant rating is: Inner City\n"
          ]
        }
      ]
    },
    {
      "cell_type": "markdown",
      "metadata": {
        "id": "5cc89cc6"
      },
      "source": [
        "## Present the results\n",
        "\n",
        "### Subtask:\n",
        "Display the city with the highest number of restaurants and the city with the highest average rating.\n"
      ]
    },
    {
      "cell_type": "markdown",
      "metadata": {
        "id": "ffa64093"
      },
      "source": [
        "**Reasoning**:\n",
        "Display the city with the highest number of restaurants and the city with the highest average rating.\n",
        "\n"
      ]
    },
    {
      "cell_type": "code",
      "metadata": {
        "colab": {
          "base_uri": "https://localhost:8080/",
          "height": 0
        },
        "id": "f403dbf0",
        "outputId": "6b35d445-4cd2-4d98-aa70-20c48533886d"
      },
      "source": [
        "print(f\"The city with the highest number of restaurants is: {restaurant_counts_by_city.index[6]}\")\n",
        "print(f\"The city with the highest average restaurant rating is: {city_highest_average_rating}\")"
      ],
      "execution_count": 39,
      "outputs": [
        {
          "output_type": "stream",
          "name": "stdout",
          "text": [
            "The city with the highest number of restaurants is: Guwahati\n",
            "The city with the highest average restaurant rating is: Inner City\n"
          ]
        }
      ]
    },
    {
      "cell_type": "code",
      "source": [
        "# Visualize the top cities by restaurant count\n",
        "plt.figure(figsize=(12, 6))\n",
        "sns.barplot(x=restaurant_counts_by_city.head(6).index, y=restaurant_counts_by_city.head(6).values)\n",
        "plt.title('Top 5 Cities by Number of Restaurants')\n",
        "plt.xlabel('City')\n",
        "plt.ylabel('Number of Restaurants')\n",
        "plt.xticks(rotation=45, ha='right')\n",
        "plt.tight_layout()\n",
        "plt.show()\n",
        "\n",
        "# Visualize the city with the highest average rating\n",
        "plt.figure(figsize=(8, 5))\n",
        "sns.barplot(x=[city_highest_average_rating], y=[average_rating_by_city.max()])\n",
        "plt.title('City with the Highest Average Restaurant Rating')\n",
        "plt.xlabel('City')\n",
        "plt.ylabel('Average Rating')\n",
        "plt.ylim(0, 5) # Assuming ratings are on a scale of 0-5\n",
        "plt.show()"
      ],
      "metadata": {
        "colab": {
          "base_uri": "https://localhost:8080/",
          "height": 1000
        },
        "id": "aM3A8GLpOMfP",
        "outputId": "6380915f-d3c6-4856-eccd-e5eaedab8d2e"
      },
      "execution_count": 49,
      "outputs": [
        {
          "output_type": "display_data",
          "data": {
            "text/plain": [
              "<Figure size 1200x600 with 1 Axes>"
            ],
            "image/png": "[encoded data removed]"
          },
          "metadata": {}
        },
        {
          "output_type": "display_data",
          "data": {
            "text/plain": [
              "<Figure size 800x500 with 1 Axes>"
            ],
            "image/png": "[encoded data removed]"
          },
          "metadata": {}
        }
      ]
    },
    {
      "cell_type": "markdown",
      "metadata": {
        "id": "1d1386ec"
      },
      "source": [
        "## Summary:\n",
        "\n",
        "### Q&A\n",
        "1.  Which city has the highest number of restaurants?\n",
        "    New Delhi has the highest number of restaurants.\n",
        "2.  Which city has the highest average restaurant rating?\n",
        "    Inner City has the highest average restaurant rating.\n",
        "\n",
        "### Data Analysis Key Findings\n",
        "*   New Delhi has the highest number of restaurants in the dataset.\n",
        "*   Inner City has the highest average restaurant rating among all cities.\n",
        "\n",
        "### Insights or Next Steps\n",
        "*   Investigate the characteristics of \"Inner City\" that contribute to its high average rating.\n",
        "*   Analyze the distribution of restaurant types and ratings in cities with a high volume of restaurants like New Delhi.\n"
      ]
    },
    {
      "cell_type": "markdown",
      "metadata": {
        "id": "d4317848"
      },
      "source": [
        "**bold text**# Task 3\n",
        "Analyze the distribution of price ranges among restaurants in the dataset \"/content/Dataset (1).csv\", calculate the percentage of restaurants in each price range category, and visualize the distribution using a histogram or bar chart."
      ]
    },
    {
      "cell_type": "markdown",
      "metadata": {
        "id": "eb8c47ac"
      },
      "source": [
        "## Analyze price range frequency\n",
        "\n",
        "### Subtask:\n",
        "Count the occurrences of each price range in the dataset.\n"
      ]
    },
    {
      "cell_type": "markdown",
      "metadata": {
        "id": "12f2a082"
      },
      "source": [
        "**Reasoning**:\n",
        "Count the occurrences of each price range in the dataset and store the result in a variable.\n",
        "\n"
      ]
    },
    {
      "cell_type": "code",
      "metadata": {
        "colab": {
          "base_uri": "https://localhost:8080/",
          "height": 241
        },
        "id": "e3c16831",
        "outputId": "9e49e471-8253-4b61-874b-5f3edf827169"
      },
      "source": [
        "price_range_counts = df['Price range'].value_counts(4)\n",
        "display(price_range_counts)"
      ],
      "execution_count": 52,
      "outputs": [
        {
          "output_type": "display_data",
          "data": {
            "text/plain": [
              "Price range\n",
              "1    0.465102\n",
              "2    0.326242\n",
              "3    0.147244\n",
              "4    0.061413\n",
              "Name: proportion, dtype: float64"
            ],
            "text/html": [
              "<div>\n",
              "<style scoped>\n",
              "    .dataframe tbody tr th:only-of-type {\n",
              "        vertical-align: middle;\n",
              "    }\n",
              "\n",
              "    .dataframe tbody tr th {\n",
              "        vertical-align: top;\n",
              "    }\n",
              "\n",
              "    .dataframe thead th {\n",
              "        text-align: right;\n",
              "    }\n",
              "</style>\n",
              "<table border=\"1\" class=\"dataframe\">\n",
              "  <thead>\n",
              "    <tr style=\"text-align: right;\">\n",
              "      <th></th>\n",
              "      <th>proportion</th>\n",
              "    </tr>\n",
              "    <tr>\n",
              "      <th>Price range</th>\n",
              "      <th></th>\n",
              "    </tr>\n",
              "  </thead>\n",
              "  <tbody>\n",
              "    <tr>\n",
              "      <th>1</th>\n",
              "      <td>0.465102</td>\n",
              "    </tr>\n",
              "    <tr>\n",
              "      <th>2</th>\n",
              "      <td>0.326242</td>\n",
              "    </tr>\n",
              "    <tr>\n",
              "      <th>3</th>\n",
              "      <td>0.147244</td>\n",
              "    </tr>\n",
              "    <tr>\n",
              "      <th>4</th>\n",
              "      <td>0.061413</td>\n",
              "    </tr>\n",
              "  </tbody>\n",
              "</table>\n",
              "</div><br><label><b>dtype:</b> float64</label>"
            ]
          },
          "metadata": {}
        }
      ]
    },
    {
      "cell_type": "markdown",
      "metadata": {
        "id": "67ddcdbf"
      },
      "source": [
        "## Calculate percentage of restaurants in each price range\n",
        "\n",
        "### Subtask:\n",
        "Calculate the percentage of restaurants in each price range relative to the total number of restaurants.\n"
      ]
    },
    {
      "cell_type": "markdown",
      "metadata": {
        "id": "5cfdf165"
      },
      "source": [
        "**Reasoning**:\n",
        "Calculate the percentage of restaurants for each price range relative to the total number of restaurants and display the result.\n",
        "\n"
      ]
    },
    {
      "cell_type": "code",
      "metadata": {
        "colab": {
          "base_uri": "https://localhost:8080/",
          "height": 241
        },
        "id": "e777b129",
        "outputId": "1f3990cb-c877-483c-e82b-1ebb0a9ddd77"
      },
      "source": [
        "total_restaurants = len(df)\n",
        "price_range_percentages = (price_range_counts / total_restaurants) * 100\n",
        "display(price_range_percentages)"
      ],
      "execution_count": 56,
      "outputs": [
        {
          "output_type": "display_data",
          "data": {
            "text/plain": [
              "Price range\n",
              "1    0.004874\n",
              "2    0.003419\n",
              "3    0.001543\n",
              "4    0.000644\n",
              "Name: proportion, dtype: float64"
            ],
            "text/html": [
              "<div>\n",
              "<style scoped>\n",
              "    .dataframe tbody tr th:only-of-type {\n",
              "        vertical-align: middle;\n",
              "    }\n",
              "\n",
              "    .dataframe tbody tr th {\n",
              "        vertical-align: top;\n",
              "    }\n",
              "\n",
              "    .dataframe thead th {\n",
              "        text-align: right;\n",
              "    }\n",
              "</style>\n",
              "<table border=\"1\" class=\"dataframe\">\n",
              "  <thead>\n",
              "    <tr style=\"text-align: right;\">\n",
              "      <th></th>\n",
              "      <th>proportion</th>\n",
              "    </tr>\n",
              "    <tr>\n",
              "      <th>Price range</th>\n",
              "      <th></th>\n",
              "    </tr>\n",
              "  </thead>\n",
              "  <tbody>\n",
              "    <tr>\n",
              "      <th>1</th>\n",
              "      <td>0.004874</td>\n",
              "    </tr>\n",
              "    <tr>\n",
              "      <th>2</th>\n",
              "      <td>0.003419</td>\n",
              "    </tr>\n",
              "    <tr>\n",
              "      <th>3</th>\n",
              "      <td>0.001543</td>\n",
              "    </tr>\n",
              "    <tr>\n",
              "      <th>4</th>\n",
              "      <td>0.000644</td>\n",
              "    </tr>\n",
              "  </tbody>\n",
              "</table>\n",
              "</div><br><label><b>dtype:</b> float64</label>"
            ]
          },
          "metadata": {}
        }
      ]
    },
    {
      "cell_type": "markdown",
      "metadata": {
        "id": "efdc9851"
      },
      "source": [
        "## Visualize the distribution\n",
        "\n",
        "### Subtask:\n",
        "Create a histogram or bar chart to visualize the distribution of price ranges.\n"
      ]
    },
    {
      "cell_type": "markdown",
      "metadata": {
        "id": "a0f5e47c"
      },
      "source": [
        "**Reasoning**:\n",
        "Create a bar chart to visualize the distribution of price ranges based on the calculated percentages.\n",
        "\n"
      ]
    },
    {
      "cell_type": "code",
      "metadata": {
        "colab": {
          "base_uri": "https://localhost:8080/",
          "height": 564
        },
        "id": "e90f817e",
        "outputId": "bf3848b1-4561-471c-cc28-1f75561404f6"
      },
      "source": [
        "plt.figure(figsize=(8, 6))\n",
        "sns.barplot(x=price_range_percentages.index, y=price_range_percentages.values)\n",
        "plt.title('Distribution of Restaurant Price Ranges')\n",
        "plt.xlabel('Price Range')\n",
        "plt.ylabel('Percentage (%)')\n",
        "plt.show()"
      ],
      "execution_count": 47,
      "outputs": [
        {
          "output_type": "display_data",
          "data": {
            "text/plain": [
              "<Figure size 800x600 with 1 Axes>"
            ],
            "image/png": "[encoded data removed]"
          },
          "metadata": {}
        }
      ]
    },
    {
      "cell_type": "markdown",
      "metadata": {
        "id": "a7dd1ff9"
      },
      "source": [
        "## Present the results\n",
        "\n",
        "### Subtask:\n",
        "Display the calculated percentages for each price range and summarize the findings.\n"
      ]
    },
    {
      "cell_type": "markdown",
      "metadata": {
        "id": "89b07d82"
      },
      "source": [
        "**Reasoning**:\n",
        "Print the calculated percentages for each price range and provide a summary of the findings based on the printed output.\n",
        "\n"
      ]
    },
    {
      "cell_type": "code",
      "metadata": {
        "colab": {
          "base_uri": "https://localhost:8080/",
          "height": 0
        },
        "id": "0c4c8c7a",
        "outputId": "e096299f-1e01-4c16-d11b-771cf43516f1"
      },
      "source": [
        "print(\"Percentage of restaurants in each price range:\")\n",
        "print(price_range_percentages)\n",
        "\n",
        "print(\"\\nSummary of Price Range Distribution:\")\n",
        "print(f\"- Price Range 1 is the most common, accounting for {price_range_percentages.loc[1]:.2f}% of restaurants.\")\n",
        "print(f\"- Price Range 2 is the second most common, with {price_range_percentages.loc[2]:.2f}%.\")\n",
        "print(f\"- Price Range 3 accounts for {price_range_percentages.loc[3]:.2f}%.\")\n",
        "print(f\"- Price Range 4 is the least common, representing {price_range_percentages.loc[4]:.2f}%.\")"
      ],
      "execution_count": 48,
      "outputs": [
        {
          "output_type": "stream",
          "name": "stdout",
          "text": [
            "Percentage of restaurants in each price range:\n",
            "Price range\n",
            "1    46.510166\n",
            "2    32.624188\n",
            "3    14.724376\n",
            "4     6.141270\n",
            "Name: count, dtype: float64\n",
            "\n",
            "Summary of Price Range Distribution:\n",
            "- Price Range 1 is the most common, accounting for 46.51% of restaurants.\n",
            "- Price Range 2 is the second most common, with 32.62%.\n",
            "- Price Range 3 accounts for 14.72%.\n",
            "- Price Range 4 is the least common, representing 6.14%.\n"
          ]
        }
      ]
    },
    {
      "cell_type": "markdown",
      "metadata": {
        "id": "8d377e11"
      },
      "source": [
        "## Summary:\n",
        "\n",
        "### Data Analysis Key Findings\n",
        "\n",
        "*   The dataset contains four price ranges (1, 2, 3, and 4).\n",
        "*   Price Range 1 is the most frequent, with 4438 restaurants (46.51%).\n",
        "*   Price Range 2 is the second most frequent, with 3113 restaurants (32.62%).\n",
        "*   Price Range 3 has 1405 restaurants (14.72%).\n",
        "*   Price Range 4 is the least frequent, with 586 restaurants (6.14%).\n",
        "*   The distribution of restaurants across price ranges is uneven, with a significant concentration in the lower price ranges.\n",
        "\n",
        "### Insights or Next Steps\n",
        "\n",
        "*   The analysis reveals a clear skew towards lower-priced restaurants in the dataset.\n",
        "*   Further analysis could investigate if there's a geographical correlation with price ranges or a relationship between price range and other factors like ratings or cuisines.\n"
      ]
    },
    {
      "cell_type": "markdown",
      "metadata": {
        "id": "cbd21b0d"
      },
      "source": [
        "# Task 4\n",
        "Analyze the provided restaurant dataset located at \"/content/Dataset (1).csv\" to determine the percentage of restaurants offering online delivery and compare the average ratings of restaurants with and without online delivery."
      ]
    },
    {
      "cell_type": "markdown",
      "metadata": {
        "id": "dbf1fc1e"
      },
      "source": [
        "## Determine the percentage of restaurants that offer online delivery\n",
        "\n",
        "### Subtask:\n",
        "Count the number of restaurants that offer online delivery and calculate the percentage relative to the total number of restaurants.\n"
      ]
    },
    {
      "cell_type": "markdown",
      "metadata": {
        "id": "b1ece2d0"
      },
      "source": [
        "**Reasoning**:\n",
        "Count the occurrences of online delivery options, calculate the total number of restaurants, and compute the percentage of restaurants offering online delivery.\n",
        "\n"
      ]
    },
    {
      "cell_type": "code",
      "metadata": {
        "colab": {
          "base_uri": "https://localhost:8080/",
          "height": 0
        },
        "id": "249cc6bf",
        "outputId": "b0b65116-de3f-417f-f078-794448cce582"
      },
      "source": [
        "online_delivery_counts = df['Has Online delivery'].value_counts()\n",
        "total_restaurants = len(df)\n",
        "online_delivery_percentage = (online_delivery_counts['Yes'] / total_restaurants) * 100\n",
        "print(f\"Percentage of restaurants offering online delivery: {online_delivery_percentage:.2f}%\")"
      ],
      "execution_count": 57,
      "outputs": [
        {
          "output_type": "stream",
          "name": "stdout",
          "text": [
            "Percentage of restaurants offering online delivery: 25.69%\n"
          ]
        }
      ]
    },
    {
      "cell_type": "markdown",
      "metadata": {
        "id": "e78d4ce7"
      },
      "source": [
        "## Compare the average ratings of restaurants with and without online delivery\n",
        "\n",
        "### Subtask:\n",
        "Group the data by whether online delivery is offered and calculate the average `Aggregate rating` for each group.\n"
      ]
    },
    {
      "cell_type": "markdown",
      "metadata": {
        "id": "0baec0a3"
      },
      "source": [
        "**Reasoning**:\n",
        "Group the data by whether online delivery is offered and calculate the average `Aggregate rating` for each group, then display the result.\n",
        "\n"
      ]
    },
    {
      "cell_type": "code",
      "metadata": {
        "colab": {
          "base_uri": "https://localhost:8080/",
          "height": 178
        },
        "id": "f8d2f5c7",
        "outputId": "9cb3d20e-bc1b-46ea-ca23-426e63e6fc64"
      },
      "source": [
        "average_rating_by_online_delivery = df.groupby('Has Online delivery')['Aggregate rating'].mean()\n",
        "display(average_rating_by_online_delivery)"
      ],
      "execution_count": 58,
      "outputs": [
        {
          "output_type": "display_data",
          "data": {
            "text/plain": [
              "Has Online delivery\n",
              "No     2.463517\n",
              "Yes    3.248837\n",
              "Name: Aggregate rating, dtype: float64"
            ],
            "text/html": [
              "<div>\n",
              "<style scoped>\n",
              "    .dataframe tbody tr th:only-of-type {\n",
              "        vertical-align: middle;\n",
              "    }\n",
              "\n",
              "    .dataframe tbody tr th {\n",
              "        vertical-align: top;\n",
              "    }\n",
              "\n",
              "    .dataframe thead th {\n",
              "        text-align: right;\n",
              "    }\n",
              "</style>\n",
              "<table border=\"1\" class=\"dataframe\">\n",
              "  <thead>\n",
              "    <tr style=\"text-align: right;\">\n",
              "      <th></th>\n",
              "      <th>Aggregate rating</th>\n",
              "    </tr>\n",
              "    <tr>\n",
              "      <th>Has Online delivery</th>\n",
              "      <th></th>\n",
              "    </tr>\n",
              "  </thead>\n",
              "  <tbody>\n",
              "    <tr>\n",
              "      <th>No</th>\n",
              "      <td>2.463517</td>\n",
              "    </tr>\n",
              "    <tr>\n",
              "      <th>Yes</th>\n",
              "      <td>3.248837</td>\n",
              "    </tr>\n",
              "  </tbody>\n",
              "</table>\n",
              "</div><br><label><b>dtype:</b> float64</label>"
            ]
          },
          "metadata": {}
        }
      ]
    },
    {
      "cell_type": "markdown",
      "metadata": {
        "id": "738f1c8d"
      },
      "source": [
        "## Present the results\n",
        "\n",
        "### Subtask:\n",
        "Display the percentage of restaurants offering online delivery and the average ratings for restaurants with and without online delivery.\n"
      ]
    },
    {
      "cell_type": "markdown",
      "metadata": {
        "id": "6dd035d2"
      },
      "source": [
        "**Reasoning**:\n",
        "Display the calculated percentage of restaurants offering online delivery and the average ratings for restaurants with and without online delivery as requested by the subtask.\n",
        "\n"
      ]
    },
    {
      "cell_type": "code",
      "metadata": {
        "colab": {
          "base_uri": "https://localhost:8080/",
          "height": 230
        },
        "id": "cdde26c8",
        "outputId": "56bf632e-2f02-436e-9018-698e7d921996"
      },
      "source": [
        "print(f\"Percentage of restaurants offering online delivery: {online_delivery_percentage:.2f}%\")\n",
        "print(\"\\nAverage ratings for restaurants with and without online delivery:\")\n",
        "display(average_rating_by_online_delivery)"
      ],
      "execution_count": 64,
      "outputs": [
        {
          "output_type": "stream",
          "name": "stdout",
          "text": [
            "Percentage of restaurants offering online delivery: 25.69%\n",
            "\n",
            "Average ratings for restaurants with and without online delivery:\n"
          ]
        },
        {
          "output_type": "display_data",
          "data": {
            "text/plain": [
              "Has Online delivery\n",
              "No     2.463517\n",
              "Yes    3.248837\n",
              "Name: Aggregate rating, dtype: float64"
            ],
            "text/html": [
              "<div>\n",
              "<style scoped>\n",
              "    .dataframe tbody tr th:only-of-type {\n",
              "        vertical-align: middle;\n",
              "    }\n",
              "\n",
              "    .dataframe tbody tr th {\n",
              "        vertical-align: top;\n",
              "    }\n",
              "\n",
              "    .dataframe thead th {\n",
              "        text-align: right;\n",
              "    }\n",
              "</style>\n",
              "<table border=\"1\" class=\"dataframe\">\n",
              "  <thead>\n",
              "    <tr style=\"text-align: right;\">\n",
              "      <th></th>\n",
              "      <th>Aggregate rating</th>\n",
              "    </tr>\n",
              "    <tr>\n",
              "      <th>Has Online delivery</th>\n",
              "      <th></th>\n",
              "    </tr>\n",
              "  </thead>\n",
              "  <tbody>\n",
              "    <tr>\n",
              "      <th>No</th>\n",
              "      <td>2.463517</td>\n",
              "    </tr>\n",
              "    <tr>\n",
              "      <th>Yes</th>\n",
              "      <td>3.248837</td>\n",
              "    </tr>\n",
              "  </tbody>\n",
              "</table>\n",
              "</div><br><label><b>dtype:</b> float64</label>"
            ]
          },
          "metadata": {}
        }
      ]
    },
    {
      "cell_type": "code",
      "source": [
        "plt.figure(figsize=(8,6))\n",
        "sns.barplot(x=average_rating_by_online_delivery.index, y=average_rating_by_online_delivery.values)\n",
        "plt.title('Average Rating by Online Delivery Availability')\n",
        "plt.xlabel('Online Delivery')\n",
        "plt.ylabel('Average Rating')\n",
        "plt.ylim(0, 5) # Assuming ratings are on a scale of 0-5\n",
        "plt.show()"
      ],
      "metadata": {
        "colab": {
          "base_uri": "https://localhost:8080/",
          "height": 564
        },
        "id": "wo6_WvI0SzWO",
        "outputId": "7d2c957e-91b1-4e87-9e24-9f5447fa9ca4"
      },
      "execution_count": 62,
      "outputs": [
        {
          "output_type": "display_data",
          "data": {
            "text/plain": [
              "<Figure size 800x600 with 1 Axes>"
            ],
            "image/png": "[encoded data removed]"
          },
          "metadata": {}
        }
      ]
    },
    {
      "cell_type": "markdown",
      "metadata": {
        "id": "80bb386a"
      },
      "source": [
        "## Summary:\n",
        "\n",
        "### Data Analysis Key Findings\n",
        "\n",
        "*   Approximately 25.69% of the restaurants in the dataset offer online delivery.\n",
        "*   Restaurants offering online delivery have a higher average aggregate rating (approximately 3.25) compared to those that do not (approximately 2.46).\n",
        "\n",
        "### Insights or Next Steps\n",
        "\n",
        "*   Restaurants with online delivery tend to have higher aggregate ratings, suggesting that offering this service might be correlated with better overall performance or customer satisfaction.\n",
        "*   Further analysis could explore other factors that might contribute to the difference in average ratings between the two groups, such as price range, cuisine type, or location.\n"
      ]
    }
  ]
}